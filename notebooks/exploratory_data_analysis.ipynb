{
 "cells": [
  {
   "cell_type": "markdown",
   "metadata": {},
   "source": [
    "### Add the scripts to the notebooks path"
   ]
  },
  {
   "cell_type": "code",
   "execution_count": 1,
   "metadata": {},
   "outputs": [
    {
     "name": "stdout",
     "output_type": "stream",
     "text": [
      "d:\\KifiyaAIM-Course\\Week - 8&9\\Adey-Innovations-Fraud-Detection\\notebooks\n"
     ]
    }
   ],
   "source": [
    "import os, sys\n",
    "\n",
    "current_dir = os.getcwd()\n",
    "print(current_dir)\n",
    "\n",
    "# Get the parent directory\n",
    "parent_dir = os.path.dirname(current_dir)\n",
    "\n",
    "scripts_path = os.path.join(parent_dir, 'scripts')\n",
    "\n",
    "# Insert the path to the parent directory\n",
    "sys.path.insert(0, parent_dir)\n",
    "\n",
    "# Insert the path to the Scripts directory\n",
    "sys.path.insert(0, scripts_path)\n",
    "\n",
    "# Add the parent directory to the Python path\n",
    "sys.path.append(os.path.abspath(os.path.join('..')))"
   ]
  },
  {
   "cell_type": "markdown",
   "metadata": {},
   "source": [
    "### Import Statements"
   ]
  },
  {
   "cell_type": "code",
   "execution_count": 2,
   "metadata": {},
   "outputs": [],
   "source": [
    "import math\n",
    "import numpy as np\n",
    "import pandas as pd\n",
    "import seaborn as sns\n",
    "import matplotlib.pyplot as plt"
   ]
  },
  {
   "cell_type": "code",
   "execution_count": 3,
   "metadata": {},
   "outputs": [],
   "source": [
    "sns.set_theme()"
   ]
  },
  {
   "cell_type": "markdown",
   "metadata": {},
   "source": [
    "### Load the Data"
   ]
  },
  {
   "cell_type": "code",
   "execution_count": 4,
   "metadata": {},
   "outputs": [],
   "source": [
    "# define path to the csv files\n",
    "COUNTRY_IP_DATA = \"../data/IpAddress_to_Country.csv\"\n",
    "FRAUD_DATA = \"../data/Fraud_Data.csv\"\n",
    "CREDIT_DATA = \"../data/creditcard.csv\"\n",
    "\n",
    "# load the data into pandas dataframes\n",
    "country_ip_mapping = pd.read_csv(COUNTRY_IP_DATA)\n",
    "fraud_data = pd.read_csv(FRAUD_DATA)\n",
    "credit_data = pd.read_csv(CREDIT_DATA)"
   ]
  },
  {
   "cell_type": "markdown",
   "metadata": {},
   "source": [
    "### Start of Exploratory Data Analysis"
   ]
  },
  {
   "cell_type": "code",
   "execution_count": 5,
   "metadata": {},
   "outputs": [],
   "source": [
    "from scripts.exploratory_data_analyzer import EDAAnalyzer\n",
    "\n",
    "# initialize the EDA analyzer\n",
    "eda_analyzer = EDAAnalyzer(data=fraud_data)"
   ]
  },
  {
   "cell_type": "markdown",
   "metadata": {},
   "source": [
    "#### 1. Basic Overview and summary statistics "
   ]
  },
  {
   "cell_type": "markdown",
   "metadata": {},
   "source": [
    "- Get basic info of the data's structure and column type definitions"
   ]
  },
  {
   "cell_type": "code",
   "execution_count": 6,
   "metadata": {},
   "outputs": [
    {
     "name": "stdout",
     "output_type": "stream",
     "text": [
      "The data has a shape of: (151112, 11)\n",
      "<class 'pandas.core.frame.DataFrame'>\n",
      "RangeIndex: 151112 entries, 0 to 151111\n",
      "Data columns (total 11 columns):\n",
      " #   Column          Non-Null Count   Dtype  \n",
      "---  ------          --------------   -----  \n",
      " 0   user_id         151112 non-null  int64  \n",
      " 1   signup_time     151112 non-null  object \n",
      " 2   purchase_time   151112 non-null  object \n",
      " 3   purchase_value  151112 non-null  int64  \n",
      " 4   device_id       151112 non-null  object \n",
      " 5   source          151112 non-null  object \n",
      " 6   browser         151112 non-null  object \n",
      " 7   sex             151112 non-null  object \n",
      " 8   age             151112 non-null  int64  \n",
      " 9   ip_address      151112 non-null  float64\n",
      " 10  class           151112 non-null  int64  \n",
      "dtypes: float64(1), int64(4), object(6)\n",
      "memory usage: 12.7+ MB\n",
      "None\n"
     ]
    }
   ],
   "source": [
    "eda_analyzer.basic_overview()"
   ]
  },
  {
   "cell_type": "markdown",
   "metadata": {},
   "source": [
    "- Generate descriptive statistics for the numerical data"
   ]
  },
  {
   "cell_type": "code",
   "execution_count": 7,
   "metadata": {},
   "outputs": [
    {
     "name": "stdout",
     "output_type": "stream",
     "text": [
      "             user_id  purchase_value            age    ip_address  \\\n",
      "count  151112.000000   151112.000000  151112.000000  1.511120e+05   \n",
      "mean   200171.040970       36.935372      33.140704  2.152145e+09   \n",
      "std    115369.285024       18.322762       8.617733  1.248497e+09   \n",
      "min         2.000000        9.000000      18.000000  5.209350e+04   \n",
      "25%    100642.500000       22.000000      27.000000  1.085934e+09   \n",
      "50%    199958.000000       35.000000      33.000000  2.154770e+09   \n",
      "75%    300054.000000       49.000000      39.000000  3.243258e+09   \n",
      "max    400000.000000      154.000000      76.000000  4.294850e+09   \n",
      "\n",
      "               class  \n",
      "count  151112.000000  \n",
      "mean        0.093646  \n",
      "std         0.291336  \n",
      "min         0.000000  \n",
      "25%         0.000000  \n",
      "50%         0.000000  \n",
      "75%         0.000000  \n",
      "max         1.000000  \n"
     ]
    }
   ],
   "source": [
    "eda_analyzer.summary_statistics()"
   ]
  },
  {
   "cell_type": "markdown",
   "metadata": {},
   "source": [
    "- Missing data identification"
   ]
  },
  {
   "cell_type": "code",
   "execution_count": 8,
   "metadata": {},
   "outputs": [
    {
     "name": "stdout",
     "output_type": "stream",
     "text": [
      "These are columns with missing values greater than 0%:\n",
      "Series([], dtype: float64)\n"
     ]
    }
   ],
   "source": [
    "eda_analyzer.missing_values()"
   ]
  },
  {
   "cell_type": "markdown",
   "metadata": {},
   "source": [
    "- Observation of duplicate data"
   ]
  },
  {
   "cell_type": "code",
   "execution_count": 9,
   "metadata": {},
   "outputs": [
    {
     "name": "stdout",
     "output_type": "stream",
     "text": [
      "The data has 0.0% duplicate data.\n"
     ]
    }
   ],
   "source": [
    "eda_analyzer.determine_duplicate()"
   ]
  },
  {
   "cell_type": "markdown",
   "metadata": {},
   "source": [
    "From the basic overview and summary statistics it can be observed that:\n",
    "\n",
    "- The fraud data set has 151112 entries with 11 columns\n",
    "- From those 151112 entrie there are no missing values nor duplicated ones in any of the 11 columns, this shows that the data collection processes is robust.\n",
    "- From the results of the numerical summary statistics it can be said that the age distribution is slighly skeweed to the right since the mean is slightly bigger than the median.\n",
    "- The class, whether the transaction is fraudulent, is moslty 0 while some of them are fruadulent. This means that the data is highly rigth skeweed, with most of the transactions belonging to the class 0(i.e no fruad) and a smaller protion belonging to the class 1(i.e fraud)."
   ]
  },
  {
   "cell_type": "markdown",
   "metadata": {},
   "source": [
    "#### 2. Univariate Analysis"
   ]
  }
 ],
 "metadata": {
  "kernelspec": {
   "display_name": "Python 3",
   "language": "python",
   "name": "python3"
  },
  "language_info": {
   "codemirror_mode": {
    "name": "ipython",
    "version": 3
   },
   "file_extension": ".py",
   "mimetype": "text/x-python",
   "name": "python",
   "nbconvert_exporter": "python",
   "pygments_lexer": "ipython3",
   "version": "3.10.2"
  }
 },
 "nbformat": 4,
 "nbformat_minor": 2
}
